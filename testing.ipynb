{
 "cells": [
  {
   "cell_type": "code",
   "execution_count": 1,
   "id": "b5ffc77e-8be2-4d0c-8e3f-f5e8cea66e50",
   "metadata": {},
   "outputs": [],
   "source": [
    "import re\n",
    "import sys\n",
    "from datetime import datetime, date\n",
    "from dateFunctions import *\n",
    "from whereabouts import *"
   ]
  },
  {
   "cell_type": "code",
   "execution_count": 3,
   "id": "e68d24c2-3d80-42d0-9d73-433989161033",
   "metadata": {},
   "outputs": [
    {
     "data": {
      "text/plain": [
       "1748"
      ]
     },
     "execution_count": 3,
     "metadata": {},
     "output_type": "execute_result"
    }
   ],
   "source": [
    "convert_date(5881, \"CY\", \"DR\", return_string=True)"
   ]
  },
  {
   "cell_type": "code",
   "execution_count": 10,
   "id": "c45f7dd1-9418-4954-92c8-079432124a7e",
   "metadata": {},
   "outputs": [],
   "source": [
    "whereabouts = [ { \"type\" : \"home\", \"start\" : \"\", \"end\" : \"\", \"location\" : \"origin\" },\n",
    "               { \"type\" : \"home\", \"start\" : \"1280\", \"end\" : \"1290\", \"location\" : \"home\" } ]\n",
    "metadata = { \"whereabouts\" : whereabouts }"
   ]
  },
  {
   "cell_type": "code",
   "execution_count": 11,
   "id": "65275025-512b-4e43-876c-3a0f07212173",
   "metadata": {},
   "outputs": [
    {
     "data": {
      "text/plain": [
       "{'home': {'type': 'home',\n",
       "  'start': '',\n",
       "  'end': '',\n",
       "  'location': 'origin',\n",
       "  'recency': 474450,\n",
       "  'duration': 3652058,\n",
       "  'start_date': datetime.date(1, 1, 1),\n",
       "  'end_date': datetime.date(9999, 12, 31)},\n",
       " 'current': {'type': 'home',\n",
       "  'start': '',\n",
       "  'end': '',\n",
       "  'location': 'origin',\n",
       "  'recency': 474450,\n",
       "  'duration': 3652058,\n",
       "  'start_date': datetime.date(1, 1, 1),\n",
       "  'end_date': datetime.date(9999, 12, 31)},\n",
       " 'origin': {'type': 'home',\n",
       "  'start': '',\n",
       "  'end': '',\n",
       "  'location': 'origin',\n",
       "  'recency': 474450,\n",
       "  'duration': 3652058,\n",
       "  'start_date': datetime.date(1, 1, 1),\n",
       "  'end_date': datetime.date(9999, 12, 31)},\n",
       " 'known': {'type': 'home',\n",
       "  'start': '1280',\n",
       "  'end': '1290',\n",
       "  'location': 'home',\n",
       "  'recency': 7305,\n",
       "  'duration': 4017,\n",
       "  'start_date': datetime.date(1280, 1, 1),\n",
       "  'end_date': datetime.date(1290, 12, 31)}}"
      ]
     },
     "execution_count": 11,
     "metadata": {},
     "output_type": "execute_result"
    }
   ],
   "source": [
    "get_whereabouts(metadata, 1300)"
   ]
  }
 ],
 "metadata": {
  "kernelspec": {
   "display_name": "Python 3 (ipykernel)",
   "language": "python",
   "name": "python3"
  },
  "language_info": {
   "codemirror_mode": {
    "name": "ipython",
    "version": 3
   },
   "file_extension": ".py",
   "mimetype": "text/x-python",
   "name": "python",
   "nbconvert_exporter": "python",
   "pygments_lexer": "ipython3",
   "version": "3.10.6"
  }
 },
 "nbformat": 4,
 "nbformat_minor": 5
}
