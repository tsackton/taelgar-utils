{
 "cells": [
  {
   "cell_type": "code",
   "execution_count": 1,
   "id": "dcb1d443",
   "metadata": {},
   "outputs": [],
   "source": [
    "import os\n",
    "import yaml\n",
    "import json\n",
    "import re\n",
    "from dotenv import load_dotenv\n",
    "from openai import OpenAI"
   ]
  },
  {
   "cell_type": "markdown",
   "id": "8cbfbc3f",
   "metadata": {},
   "source": [
    "## Setup\n",
    "\n",
    "- Load OpenAI API key from .env using dotenv package\n",
    "- Start client\n",
    "- define functions to get embeddings from a piece of text"
   ]
  },
  {
   "cell_type": "code",
   "execution_count": 2,
   "id": "041e18ca",
   "metadata": {},
   "outputs": [],
   "source": [
    "load_dotenv()\n",
    "client = OpenAI(\n",
    "    # This is the default and can be omitted\n",
    "    api_key=os.environ.get(\"OPEN_API_TAELGAR\"),\n",
    ")\n",
    "def get_embedding(text, model=\"text-embedding-ada-002\"):\n",
    "   text = text.replace(\"\\n\", \" \")\n",
    "   return client.embeddings.create(input = [text], model=model).data[0].embedding"
   ]
  },
  {
   "cell_type": "markdown",
   "id": "630e78d4",
   "metadata": {},
   "source": [
    "Define function to parse a markdown file into metadata and text. Probably ultimately want to insert some metadata into text and clean up markdown."
   ]
  },
  {
   "cell_type": "code",
   "execution_count": 3,
   "id": "18106b7e",
   "metadata": {},
   "outputs": [],
   "source": [
    "def parse_markdown_file(file_path):\n",
    "    \"\"\"\n",
    "    Reads a markdown file and returns its frontmatter as a dictionary and the rest of the text as a string.\n",
    "\n",
    "    :param file_path: Path to the markdown file.\n",
    "    :return: A tuple containing a dictionary of the frontmatter and a string of the markdown text.\n",
    "    \"\"\"\n",
    "    with open(file_path, 'r', encoding='utf-8') as file:\n",
    "        lines = file.readlines()\n",
    "\n",
    "    # Check if the file starts with frontmatter (triple dashes)\n",
    "    if lines and lines[0].strip() == '---':\n",
    "        # Try to find the second set of triple dashes\n",
    "        try:\n",
    "            end_frontmatter_idx = lines[1:].index('---\\n') + 1\n",
    "        except ValueError:\n",
    "            # Handle the case where the closing triple dashes are not found\n",
    "            frontmatter = {}\n",
    "            markdown_text = ''.join(lines)\n",
    "        else:\n",
    "            frontmatter = yaml.safe_load(''.join(lines[1:end_frontmatter_idx]))\n",
    "            markdown_text = ''.join(lines[end_frontmatter_idx + 1:])\n",
    "    else:\n",
    "        frontmatter = {}\n",
    "        markdown_text = ''.join(lines)\n",
    "    return frontmatter, markdown_text"
   ]
  },
  {
   "cell_type": "markdown",
   "id": "fa7fb353",
   "metadata": {},
   "source": [
    "Now let's experiment with our session note summarization. \n",
    "\n",
    "Basic protocal will be:\n",
    "- Read session note, set metadata such as date\n",
    "- Set up chat API call with a system message to extract a short tagline and a description\n",
    "- Run and see what happens?"
   ]
  },
  {
   "cell_type": "code",
   "execution_count": 16,
   "id": "67065800",
   "metadata": {},
   "outputs": [],
   "source": [
    "sys_prompt = \"You are a creative and careful assistant who is skilled in extracting summaries and meaningful content from text. You will receive a query that consists of possibly some optional context, followed by a potentially long text. This text will describe a narrative of one or more days, describing the events that happened in a fictional world. Your job is to summarize these narratives. You will return a JSON object that contains these things: 1. A tagline: this is a tagline of 3-8 words that could be used as a subtitle for the text; it should capture the main event of the narrative succinctly and clearly, and ALWAYS start with the words *in which* 2. A summary: this is no more than 100 words, in the form of a markdown list. each element of the list should succinctly, clearly, and accurately summarize a main event from the narrative. Choose carefully to ONLY summarize the PRIMARY OR MOST IMPORTANT parts of the narrative. 3. A short_summary; this is no more than one sentence and captures the primary gist of the narrative. 4. A location of the narrative, which can be either one or possibly two major places the events happen at or a phrase like on the road between place1 and place2, although you will prefer to choose a single location if possible. Your primary concern is summarization. Your goal is to extract the most important and relevant information from the text. You will remember that this text describes events in a fictional world. The text you receive will be formatted in markdown format, and you will ignore markdown formatting characters in your responses.\"\n",
    "def get_session_summary(prompt, model=\"gpt-4-1106-preview\", max_tokens=4000, system_prompt=sys_prompt):\n",
    "    input_messages = []\n",
    "    input_messages.append({\"role\": \"system\", \"content\": system_prompt})\n",
    "    input_messages.append({\"role\": \"user\", \"content\": prompt})\n",
    "    response = client.chat.completions.create(\n",
    "        model=model,\n",
    "        max_tokens=max_tokens,\n",
    "        messages=input_messages,\n",
    "        top_p=1.0,\n",
    "        frequency_penalty=0.0,\n",
    "        presence_penalty=0.0,\n",
    "        temperature=1,\n",
    "    )\n",
    "    return response"
   ]
  },
  {
   "cell_type": "code",
   "execution_count": 5,
   "id": "3fd3dc47",
   "metadata": {},
   "outputs": [],
   "source": [
    "def split_markdown_by_sections(markdown_lines):\n",
    "    \"\"\"\n",
    "    Splits a Markdown document (provided as a list of lines) into sections and returns a dictionary.\n",
    "    The keys of the dictionary are the section names (with '#' removed), and the values are the text of each section.\n",
    "\n",
    "    Args:\n",
    "        markdown_lines (list of str): The Markdown document, split into lines.\n",
    "\n",
    "    Returns:\n",
    "        dict: A dictionary where keys are section names and values are the corresponding section text.\n",
    "    \"\"\"\n",
    "    section_indices = [i for i, line in enumerate(markdown_lines) if re.match(r'^#+\\s+.*$', line)]\n",
    "    sections_dict = {}\n",
    "\n",
    "    for i in range(len(section_indices)):\n",
    "        start = section_indices[i] + 1  # Start from the line after the header\n",
    "        header = markdown_lines[start - 1].lstrip('#').strip()\n",
    "        end = section_indices[i + 1] if i + 1 < len(section_indices) else len(markdown_lines)\n",
    "        section_content = [line for line in markdown_lines[start:end] if line.strip() != '']  # Exclude blank lines\n",
    "        sections_dict[header] = '\\n'.join(section_content)\n",
    "\n",
    "    return sections_dict"
   ]
  },
  {
   "cell_type": "code",
   "execution_count": 17,
   "id": "9b706cb9",
   "metadata": {},
   "outputs": [
    {
     "name": "stdout",
     "output_type": "stream",
     "text": [
      "## Narrative\n",
      "\n",
      "[[Seeker]] of Highkeep, [[Wellby]] Goodbarrel, [[Kenzo]], and [[Delwath]], arriving at the [[Gomat]] Oasis past sunset, tired and weary from a long journey in the desert sun, find the oasis beset by three giant lizards, feasting on dead sheep. Deciding to attack, the party made relatively quick work of the beasts. Exhausted, and unable to determine much in the dark, the party camped for the night.\n",
      "\n",
      "In the morning, exploring the oasis, they found signs of a battle and clear tracks of the giant lizards heading east, into the wilderness. While dissecting the lizards in search of clues to their particularly vicious and bloodthirsty behavior, an older man, wounded but alive, appeared on the horizon on horseback. Hailing him, the party learned that he was [[Akan]], one of the survivors of the giant lizard attack on [[Gomat]] the night before. His extended family had been camped at the oasis, grazing their herds, for several days, intending to rest and relax before the [[Festival of Rebirth]]. In the afternoon, the lizards attacked. They tried to fight them off, and managed to kill one while fleeing, but the lizards were relentless and would not be scared away, and several members of [[Akan]]’s family were killed before all could get on horseback to flee. He had returned to reclaim supplies -- food and water and the like -- before heading to [[Karawa]]. Before departing, his nephew headed north and west to warn others to get to town as quickly as possible. \n",
      "\n",
      "The party, however, headed east. Traveling and talking during the long hot day, they followed the trade road due east. Along the way, they noticed the rotting corpses of several dead peccaries just off the road, killed in the past few days, with obvious signs of lizard tracks. Some were consumed, but others just left to rot -- very unusual behavior for giant lizards. \n",
      "\n",
      "In the late afternoon, they came to wide canyon ripped into the earth. [[Seeker]] especially was taken by how unnatural the landscape seemed, both the rugged badlands to the south, and the canyon itself, which clearly was not formed by the usual processes of gradual erosion. Descending the slope was easy enough to start, but a basalt outcropping about three quarters of the way down stopped them for the evening. \n",
      "\n",
      "Returning in the morning after [[Seeker]] magically created a doorless earthen barn for [[Delwath]]’s horse, the party made their way slowly down to the bottom of the canyon. Here, it became apparent that many animal tracks crossed and criss-crossed the terrain, all converging in the east on a sloping side canyon leading up to the remains of the trade road. Following the path, the party stood on the other side of the canyon, where the entire landscape seemed bloodthirsty and enraged. Ants and scorpions swarming the ground, the remains of a battle between a giant scorpion and a giant hyena -- everywhere they turned something was attacking something else. \n",
      "\n",
      "In the distance, two towers, the gatehouse to a ruined fort, drew them in. Approaching the fort, the party saw before them a path leading to an earthenworks dike, upon which was set a ruined wall, with the two partially intact towers guarding the gate and causeway leading into the fort. Outside the walls were the foundations of a small cluster of buildings, all collapsed, and two large mounds -- on the left, a grassy mound, on the right, one of rubble and dirt. Passing the mound, [[Kenzo]] felt something evil, an undead presence, and shouted a warning just as a skeletal hand began reaching out of the dirt. Four skeletons climbed out of the disturbed ground and attacked, although were dispatched without much damage as the party discovered newfound abilities within themselves. \n",
      "\n",
      "After the battle, searching the area revealed clear indications that the skeleton mound had been recently disturbed, in the past month or so at least, and [[Wellby]] noticed signs that someone had been around in that time frame. [[Seeker]], with his historical knowledge, identified the fort as likely dating to the [[Great War]], being a typical Dunmari layout and design at that time. \n",
      "\n",
      "With that, the party headed up the causeway to the fort, ready for anything.\n",
      "\n",
      "\n",
      "\n"
     ]
    }
   ],
   "source": [
    "session_note_path = \"/Users/tim/Library/Mobile Documents/iCloud~md~obsidian/Documents/Taelgar/Campaigns/Dunmari Frontier/Session Notes/Session 2 (DuFr).md\"\n",
    "metadata, text = parse_markdown_file(session_note_path)\n",
    "markdown_text = split_markdown_by_sections(text.splitlines())\n",
    "narrative = \"\"\n",
    "timeline = \"\"\n",
    "if \"Narrative\" in markdown_text:\n",
    "    narrative = markdown_text[\"Narrative\"]\n",
    "if \"Timeline\" in markdown_text:\n",
    "    timeline = markdown_text[\"Timeline\"]\n",
    "\n",
    "if narrative and timeline:\n",
    "    session_prompt = f\"## Narrative\\n{narrative}\\n## Timeline\\n{timeline}\"\n",
    "elif narrative:\n",
    "    session_prompt = f\"## Narrative\\n{narrative}\\n\"\n",
    "elif timeline:\n",
    "    narrative = \"\\n\".join([markdown_text[section] for section in markdown_text if section != \"Timeline\"])\n",
    "    session_prompt = f\"## Narrative\\n{narrative}\\n## Timeline\\n{timeline}\"\n",
    "else:\n",
    "    session_prompt = f\"## Narrative\\n{text}\\n\"\n",
    "\n",
    "print(session_prompt)"
   ]
  },
  {
   "cell_type": "markdown",
   "id": "c6d09c60",
   "metadata": {},
   "source": [
    "Actually get the response from LLM"
   ]
  },
  {
   "cell_type": "code",
   "execution_count": 18,
   "id": "14670c33",
   "metadata": {},
   "outputs": [
    {
     "name": "stdout",
     "output_type": "stream",
     "text": [
      "ChatCompletion(id='chatcmpl-8jCqPW67fmrZwwKj3bYamQcqP70Xq', choices=[Choice(finish_reason='stop', index=0, logprobs=None, message=ChatCompletionMessage(content='```json\\n{\\n  \"tagline\": \"In which an oasis yields dark secrets\",\\n  \"summary\": [\\n    \"The Dunmar Fellowship arrives at Gomat Oasis, battling three giant lizards upon their arrival.\",\\n    \"They encounter Akan, a survivor of a lizard attack who informs them his family was victimized while preparing for the Festival of Rebirth.\",\\n    \"The group follows lizard tracks east, finding unusual signs of animal slaughter alongside the road.\",\\n    \"They discover a canyon and descend, noticing converging animal tracks and a hostile, bloodthirsty environment.\",\\n    \"At a ruined fort, they face and defeat emerging skeletons, sensing an undead presence and uncovering traces of recent disturbance.\"\\n  ],\\n  \"short_summary\": \"The Dunmar Fellowship uncovers a malign presence and battles undead at a beleaguered Gomat Oasis and an ancient fort.\",\\n  \"location\": \"Gomat Oasis and the ruined fort eastward\"\\n}\\n```', role='assistant', function_call=None, tool_calls=None))], created=1705784825, model='gpt-4-1106-preview', object='chat.completion', system_fingerprint='fp_3de4f27bba', usage=CompletionUsage(completion_tokens=194, prompt_tokens=1282, total_tokens=1476))\n"
     ]
    }
   ],
   "source": [
    "context = \"Context: this describes events happening to a group of adventurers called the Dunmar Fellowship, occurring in the D&D world of Taelgar.\"\n",
    "prompt = context + \"\\n===\\n\" + session_prompt\n",
    "summary = get_session_summary(prompt)\n",
    "print(summary)"
   ]
  },
  {
   "cell_type": "markdown",
   "id": "841aeb12",
   "metadata": {},
   "source": [
    "Format of a session note should be:\n",
    "\n",
    "# {campaign} Session {sessionNumber}\n",
    "*{tagline}*\n",
    "\n",
    "**In the real world**: {realWorldDate}\n",
    "**In Taelgar**: {DR} - {DR_end} %% unless DR == DR_end, in which case just {DR}\n",
    "**{location}**\n",
    "\n",
    "## Summary\n",
    "{summary}\n",
    "\n",
    "## Session Events\n",
    "\n",
    "(can include: timeline, stories/intro, mirror uses, level ups, new treasure, anything that is relevant but not narrative)\n",
    "\n",
    "\n",
    "## Narrative\n",
    "{narrative}\n"
   ]
  },
  {
   "cell_type": "code",
   "execution_count": 19,
   "id": "cd963ea8",
   "metadata": {},
   "outputs": [
    {
     "name": "stdout",
     "output_type": "stream",
     "text": [
      "{'tagline': 'In which an oasis yields dark secrets', 'summary': ['The Dunmar Fellowship arrives at Gomat Oasis, battling three giant lizards upon their arrival.', 'They encounter Akan, a survivor of a lizard attack who informs them his family was victimized while preparing for the Festival of Rebirth.', 'The group follows lizard tracks east, finding unusual signs of animal slaughter alongside the road.', 'They discover a canyon and descend, noticing converging animal tracks and a hostile, bloodthirsty environment.', 'At a ruined fort, they face and defeat emerging skeletons, sensing an undead presence and uncovering traces of recent disturbance.'], 'short_summary': 'The Dunmar Fellowship uncovers a malign presence and battles undead at a beleaguered Gomat Oasis and an ancient fort.', 'location': 'Gomat Oasis and the ruined fort eastward'}\n",
      "*in which an oasis yields dark secrets*\n",
      "\n",
      "## Summary\n",
      "    - The Dunmar Fellowship arrives at Gomat Oasis, battling three giant lizards upon their arrival.\n",
      "    - They encounter Akan, a survivor of a lizard attack who informs them his family was victimized while preparing for the Festival of Rebirth.\n",
      "    - The group follows lizard tracks east, finding unusual signs of animal slaughter alongside the road.\n",
      "    - They discover a canyon and descend, noticing converging animal tracks and a hostile, bloodthirsty environment.\n",
      "    - At a ruined fort, they face and defeat emerging skeletons, sensing an undead presence and uncovering traces of recent disturbance.\n",
      "\n",
      "## Short Summary\n",
      "The Dunmar Fellowship uncovers a malign presence and battles undead at a beleaguered Gomat Oasis and an ancient fort.\n",
      "\n",
      "## Location\n",
      "    - Gomat Oasis and the ruined fort eastward\n"
     ]
    }
   ],
   "source": [
    "clean_resp = summary.choices[0].message.content.replace(\"```\", \"\").replace(\"json\", \"\").strip()\n",
    "resp_data = json.loads(clean_resp)\n",
    "print(resp_data)\n",
    "tagline = resp_data[\"tagline\"]\n",
    "print(\"*\" + tagline[0].lower() + tagline[1:] + \"*\")\n",
    "print(\"\\n## Summary\\n    - \", end=\"\")\n",
    "print(\"\\n    - \".join(resp_data[\"summary\"]))\n",
    "print(\"\\n## Short Summary\\n\", end=\"\")\n",
    "print(resp_data[\"short_summary\"])\n",
    "print(\"\\n## Location\", end=\"\")\n",
    "print(\"\\n    - \" + resp_data[\"location\"])\n"
   ]
  },
  {
   "cell_type": "code",
   "execution_count": null,
   "id": "09e9dca3",
   "metadata": {},
   "outputs": [],
   "source": []
  }
 ],
 "metadata": {
  "kernelspec": {
   "display_name": "Python 3 (ipykernel)",
   "language": "python",
   "name": "python3"
  },
  "language_info": {
   "codemirror_mode": {
    "name": "ipython",
    "version": 3
   },
   "file_extension": ".py",
   "mimetype": "text/x-python",
   "name": "python",
   "nbconvert_exporter": "python",
   "pygments_lexer": "ipython3",
   "version": "3.11.7"
  }
 },
 "nbformat": 4,
 "nbformat_minor": 5
}
